{
  "nbformat": 4,
  "nbformat_minor": 0,
  "metadata": {
    "colab": {
      "provenance": [],
      "include_colab_link": true
    },
    "kernelspec": {
      "name": "python3",
      "display_name": "Python 3"
    },
    "language_info": {
      "name": "python"
    }
  },
  "cells": [
    {
      "cell_type": "markdown",
      "metadata": {
        "id": "view-in-github",
        "colab_type": "text"
      },
      "source": [
        "<a href=\"https://colab.research.google.com/github/Anton-commits/NM/blob/main/%D0%9B%D0%A05_%D0%A1%D0%B8%D0%BB%D0%B0%D0%BA__%D0%B215.ipynb\" target=\"_parent\"><img src=\"https://colab.research.google.com/assets/colab-badge.svg\" alt=\"Open In Colab\"/></a>"
      ]
    },
    {
      "cell_type": "code",
      "source": [
        "# Матриця А та вектор b\n",
        "a = [[3,  0, 0,  7,  1],\n",
        "     [9,  7, 9, -1,  4],\n",
        "     [0,  2, 2,  0,  0],\n",
        "     [5, -2, 5,  0,  6],\n",
        "     [1,  9, 7,  8, -3]]\n",
        "b = [7, -9, 6, 15, -7]"
      ],
      "metadata": {
        "id": "UvsA7iZtEPnH"
      },
      "execution_count": 1,
      "outputs": []
    },
    {
      "cell_type": "code",
      "source": [
        "# Довжина списку\n",
        "d = len(b)\n",
        "\n",
        "# Прямий хід\n",
        "for m in range(0,d-1):\n",
        "    for j in range(m+1,d):\n",
        "        k = a[j][m] / a[m][m]\n",
        "        for i in range(m,d):\n",
        "            a[j][i] = a[j][i] - k*a[m][i]\n",
        "        b[j] = b[j] - k*b[m]\n",
        "\n",
        "# Скалярний добуток\n",
        "def scalar_product(a, b, n):\n",
        "    s = 0\n",
        "    for i in range(n+1, d):\n",
        "        s = s + a[n][i]*b[i]\n",
        "    return s\n",
        "\n",
        "# Зворотний хід\n",
        "for i in range(d-1, -1, -1):\n",
        "    b[i] = (b[i] - scalar_product(a, b, i)) / a[i][i]\n",
        "\n",
        "# Відображення результатів\n",
        "print('Матриця А після перетворень прямого ходу')\n",
        "for i in range(0,d):\n",
        "    print(a[i])\n",
        "print()\n",
        "print(\"Вектор розв'язку x\")\n",
        "for i in range(0,d):\n",
        "    print(b[i])"
      ],
      "metadata": {
        "colab": {
          "base_uri": "https://localhost:8080/"
        },
        "id": "B1jmjraFES0W",
        "outputId": "3201fca2-8d55-4392-c6a3-a96200153820"
      },
      "execution_count": 2,
      "outputs": [
        {
          "output_type": "stream",
          "name": "stdout",
          "text": [
            "Матриця А після перетворень прямого ходу\n",
            "[3, 0, 0, 7, 1]\n",
            "[0.0, 7.0, 9.0, -22.0, 1.0]\n",
            "[0.0, 0.0, -0.5714285714285712, 6.285714285714286, -0.2857142857142857]\n",
            "[0.0, 0.0, 0.0, 65.33333333333337, 0.8333333333333317]\n",
            "[0.0, 0.0, 8.881784197001252e-16, 0.0, -2.1249999999999982]\n",
            "\n",
            "Вектор розв'язку x\n",
            "-10.142857142857148\n",
            "9.040816326530626\n",
            "-6.040816326530626\n",
            "2.6326530612244894\n",
            "19.000000000000014\n"
          ]
        }
      ]
    },
    {
      "cell_type": "code",
      "source": [
        "import numpy as np\n",
        "from numpy.linalg import solve\n",
        "\n",
        "a = np.array([[3, 0, 0, 7, 1],\n",
        "              [9, 7, 9,-1, 4],\n",
        "              [0, 2, 2, 0, 0],\n",
        "              [5,-2, 5, 0, 6],\n",
        "              [1, 9, 7, 8,-3]])\n",
        "b = np.array([7, -9, 6, 15, -7])\n",
        "\n",
        "x = solve(a,b)\n",
        "\n",
        "for i in range(len(x)):\n",
        "    print(x[i])"
      ],
      "metadata": {
        "colab": {
          "base_uri": "https://localhost:8080/"
        },
        "id": "Upx7ibC3EVlm",
        "outputId": "3926b499-6c09-433e-fa65-dbec51900e2f"
      },
      "execution_count": 3,
      "outputs": [
        {
          "output_type": "stream",
          "name": "stdout",
          "text": [
            "-10.142857142857139\n",
            "9.040816326530603\n",
            "-6.040816326530604\n",
            "2.6326530612244885\n",
            "18.999999999999986\n"
          ]
        }
      ]
    },
    {
      "cell_type": "code",
      "source": [
        "import sympy as sp\n",
        "\n",
        "a = sp.Matrix([[3, 0, 0, 7, 1],\n",
        "                 [9, 7, 9,-1, 4],\n",
        "                 [0, 2, 2, 0, 0],\n",
        "                 [5,-2, 5, 0, 6],\n",
        "                 [1, 9, 7, 8,-3]])\n",
        "b = sp.Matrix([7, -9, 6, 15, -7])\n",
        "\n",
        "x = a.solve(b)\n",
        "\n",
        "print(x)"
      ],
      "metadata": {
        "colab": {
          "base_uri": "https://localhost:8080/"
        },
        "id": "MgK_7oLXEYkG",
        "outputId": "4788633d-2d42-4814-82ad-b632c286c637"
      },
      "execution_count": 4,
      "outputs": [
        {
          "output_type": "stream",
          "name": "stdout",
          "text": [
            "Matrix([[-71/7], [443/49], [-296/49], [129/49], [19]])\n"
          ]
        }
      ]
    },
    {
      "cell_type": "code",
      "source": [
        "import sympy as sp\n",
        "\n",
        "a11 = sp.symbols('a11')\n",
        "a12 = sp.symbols('a12')\n",
        "a21 = sp.symbols('a21')\n",
        "a22 = sp.symbols('a22')\n",
        "b1 = sp.symbols('b1')\n",
        "b2 = sp.symbols('b2')\n",
        "\n",
        "a = sp.Matrix([[a11, a12],\n",
        "                 [a21, a22]])\n",
        "b = sp.Matrix([b1, b2])\n",
        "x = a.solve(b)\n",
        "\n",
        "print(x)"
      ],
      "metadata": {
        "colab": {
          "base_uri": "https://localhost:8080/"
        },
        "id": "XllgLnp1Eax-",
        "outputId": "e0a6022c-b92d-4c9c-ab1b-be18b3dd2c9a"
      },
      "execution_count": 5,
      "outputs": [
        {
          "output_type": "stream",
          "name": "stdout",
          "text": [
            "Matrix([[(-a12*b2 + a22*b1)/(a11*a22 - a12*a21)], [(a11*b2 - a21*b1)/(a11*a22 - a12*a21)]])\n"
          ]
        }
      ]
    },
    {
      "cell_type": "markdown",
      "source": [
        "#Лабораторна робота 5\n",
        "Розв'язання систем нелінійних рівнянь."
      ],
      "metadata": {
        "id": "IoB997mFVIyw"
      }
    },
    {
      "cell_type": "markdown",
      "source": [
        "![image.png](data:image/png;base64,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)"
      ],
      "metadata": {
        "id": "RKpkLNLEc95A"
      }
    },
    {
      "cell_type": "code",
      "source": [
        "import numpy as np"
      ],
      "metadata": {
        "id": "nPALb4nfdTLI"
      },
      "execution_count": 6,
      "outputs": []
    },
    {
      "cell_type": "code",
      "source": [
        "a = np.array([\n",
        "    [1, -2, 1],\n",
        "    [2, -1, 1],\n",
        "    [3, 2, 2],\n",
        "])\n",
        "b = np.array([[4], [3], [2]])"
      ],
      "metadata": {
        "id": "hd7dL3j4XsUx"
      },
      "execution_count": 7,
      "outputs": []
    },
    {
      "cell_type": "code",
      "source": [
        "# Напиши функцію для вирішення системи методом Гауса\n",
        "def solve_gausse(a, b, verbose=False):\n",
        "    det = np.linalg.det(a)\n",
        "    if verbose: print(f\"Визначник матриці A: {round(det)}\")\n",
        "    if det == 0:\n",
        "        print(\"Визначник дорівнює нулю - розв'язків немає\")\n",
        "        return None\n",
        "    # Reading number of unknowns\n",
        "    n = len(b)\n",
        "    m = np.concatenate([a, b], axis=1, dtype=float)\n",
        "\n",
        "    # Applying Gauss-Jordan Elimination\n",
        "    for i in range(n):\n",
        "\n",
        "        # Swap rows to avoid division by 0\n",
        "        if m[i, i] == 0:\n",
        "            for k in range(i+1, n):\n",
        "                if m[k, k] != 0:\n",
        "                    m[[i, k], :] = m[[k, i], :]\n",
        "                    break\n",
        "\n",
        "\n",
        "        if m[i, i] != 1:\n",
        "            m[i, :] *= 1/m[i, i]\n",
        "\n",
        "        for j in range(n):\n",
        "            if i != j:\n",
        "                ratio = m[j][i]/m[i][i]\n",
        "\n",
        "                m[j, :] = m[j, :] - ratio * m[i, :]\n",
        "\n",
        "    return m[:, [-1]]\n",
        "\n",
        "print(f\"Вектор рішення: \\r\\n {solve_gausse(a, b)}\")"
      ],
      "metadata": {
        "colab": {
          "base_uri": "https://localhost:8080/"
        },
        "id": "uMtqlI-bdNC9",
        "outputId": "d6545cb1-ec0c-42e1-8f47-2fed3680197e"
      },
      "execution_count": 8,
      "outputs": [
        {
          "output_type": "stream",
          "name": "stdout",
          "text": [
            "Вектор рішення: \r\n",
            " [[ 3.33066907e-16]\n",
            " [-1.00000000e+00]\n",
            " [ 2.00000000e+00]]\n"
          ]
        }
      ]
    },
    {
      "cell_type": "markdown",
      "source": [
        "# **2 частина**"
      ],
      "metadata": {
        "id": "vAGuO9XkgZ_B"
      }
    },
    {
      "cell_type": "markdown",
      "source": [
        "![image.png](data:image/png;base64,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)"
      ],
      "metadata": {
        "id": "Q0izy-_XYfF-"
      }
    },
    {
      "cell_type": "markdown",
      "source": [
        "![image.png](data:image/png;base64,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)"
      ],
      "metadata": {
        "id": "3bz96xRDitxt"
      }
    },
    {
      "cell_type": "code",
      "source": [
        "import numpy as np\n",
        "import matplotlib.pyplot as plt\n",
        "\n",
        "# Область значень для x та y\n",
        "x_min, x_max = -2, 2\n",
        "y_min, y_max = 0, 3\n",
        "step = 0.01\n",
        "\n",
        "# Створюємо масиви значень x та y\n",
        "x, y = np.meshgrid(np.arange(x_min, x_max, step), np.arange(y_min, y_max, step))\n",
        "\n",
        "# Рівняння системи\n",
        "eq1 = np.sin(y+0.5) - x  -1\n",
        "eq2 = np.cos(x-2) + y - 0\n",
        "# Створюємо графік\n",
        "fig, ax = plt.subplots(figsize=(6, 6))\n",
        "\n",
        "# Додаємо графік першого рівняння\n",
        "ax.contour(x, y, eq1, levels=[0], colors='red')\n",
        "\n",
        "# Додаємо графік другого рівняння\n",
        "ax.contour(x, y, eq2, levels=[0], colors='blue')\n",
        "\n",
        "# Налаштування графіка\n",
        "ax.set_xlim([x_min, x_max])\n",
        "ax.set_ylim([y_min, y_max])\n",
        "ax.set_xlabel('x')\n",
        "ax.set_ylabel('y')\n",
        "ax.set_title('Графік системи рівнянь')\n",
        "\n",
        "# Додаємо стрілки на кінцях осей\n",
        "ax.arrow(x_min, 0, x_max - x_min, 0, head_width=0.1, head_length=0.05, fc='black', ec='black')\n",
        "ax.arrow(0, y_min, 0, y_max - y_min, head_width=0.1, head_length=0.2, fc='black', ec='black')\n",
        "\n",
        "# Додаємо сітку\n",
        "plt.grid(True)\n",
        "\n",
        "# Показуємо графік\n",
        "plt.show()\n"
      ],
      "metadata": {
        "colab": {
          "base_uri": "https://localhost:8080/",
          "height": 564
        },
        "id": "1oi4D4nJV79j",
        "outputId": "25e0949f-ddba-44a5-e6ea-3a6d49c035db"
      },
      "execution_count": 15,
      "outputs": [
        {
          "output_type": "display_data",
          "data": {
            "text/plain": [
              "<Figure size 600x600 with 1 Axes>"
            ],
            "image/png": "[encoded data removed]"
          },
          "metadata": {}
        }
      ]
    },
    {
      "cell_type": "code",
      "source": [
        "import numpy as np\n",
        "import matplotlib.pyplot as plt\n"
      ],
      "metadata": {
        "id": "L4PP7PNBWJkP"
      },
      "execution_count": 16,
      "outputs": []
    },
    {
      "cell_type": "code",
      "execution_count": 18,
      "metadata": {
        "colab": {
          "base_uri": "https://localhost:8080/"
        },
        "id": "bOECzfLrVH3M",
        "outputId": "b3d0c3ed-96b0-4c38-b87e-10a8483aa767"
      },
      "outputs": [
        {
          "output_type": "stream",
          "name": "stdout",
          "text": [
            "Simple iteration:\n",
            "x= -0.6830832413355571 \n",
            "y= -1.1821607240367442 \n",
            "The amount of iteration =  49\n",
            "Chek [-0.13868462  0.537853  ]\n"
          ]
        }
      ],
      "source": [
        "#Розв'язок системи рівнянь методом простої ітерації\n",
        "import numpy as np\n",
        "from scipy import optimize\n",
        "\n",
        "x0, y0 = -0.3, 0.3\n",
        "\n",
        "def f1(y):\n",
        "    return np.sin(y+0.5) - 1 #задаємо функції\n",
        "def f2 (x):\n",
        "    return 0 - np.cos(x+2) #задаємо функції\n",
        "\n",
        "#Перевірка методу на збіжність\n",
        "\n",
        "def iter (x,y,e):\n",
        "    xn = x\n",
        "    yn = y\n",
        "    xn1 = f2(x)\n",
        "    yn1 = f1(y)\n",
        "    n = 1\n",
        "    while ((abs(xn1-xn)>=e) & (abs(yn1-yn) >=e)):\n",
        "        xn = xn1\n",
        "        yn = yn1\n",
        "        xn1 = f2(yn)\n",
        "        yn1 = f1(xn)\n",
        "        n += 1\n",
        "    print ('Simple iteration:')\n",
        "    print ('x=', xn, '\\ny=',yn,'\\nThe amount of iteration = ',n)\n",
        "\n",
        "iter(x0,y0,0.0001)\n",
        "\n",
        "def f3(x): #Задаємо функцію для перевірки\n",
        "    return np.sin(x[1] + 0.5)- x[0] - 1, np.cos(x[0] -2) + x[1] - 0\n",
        "\n",
        "s = optimize.root(f3, [0.,0.], method = 'hybr') #Перевірка розв*язку #Відповіді\n",
        "#мають співпасти\n",
        "print ('Chek',s.x)"
      ]
    },
    {
      "cell_type": "markdown",
      "source": [
        "Зверніть увагу!\n",
        "#Відповіді мають співпасти.\n",
        "\n"
      ],
      "metadata": {
        "id": "D3azkvZQWfFm"
      }
    }
  ]
}