{
  "nbformat": 4,
  "nbformat_minor": 0,
  "metadata": {
    "colab": {
      "provenance": [],
      "authorship_tag": "ABX9TyMr6n98dybmCmEu/+6F5zL6",
      "include_colab_link": true
    },
    "kernelspec": {
      "name": "python3",
      "display_name": "Python 3"
    },
    "language_info": {
      "name": "python"
    }
  },
  "cells": [
    {
      "cell_type": "markdown",
      "metadata": {
        "id": "view-in-github",
        "colab_type": "text"
      },
      "source": [
        "<a href=\"https://colab.research.google.com/github/Anton-commits/NM/blob/main/%D0%9B%D0%A04_%D0%A1%D0%B8%D0%BB%D0%B0%D0%BA_%D0%B215.ipynb\" target=\"_parent\"><img src=\"https://colab.research.google.com/assets/colab-badge.svg\" alt=\"Open In Colab\"/></a>"
      ]
    },
    {
      "cell_type": "markdown",
      "source": [
        "#  Силак Антон був присутній на парі"
      ],
      "metadata": {
        "id": "d4KukhN3NJ0O"
      }
    },
    {
      "cell_type": "code",
      "source": [
        "import numpy as np\n",
        "numpy_version = np.__version__\n",
        "numpy_version"
      ],
      "metadata": {
        "colab": {
          "base_uri": "https://localhost:8080/",
          "height": 36
        },
        "id": "ODOPOuQxNT1e",
        "outputId": "ea09f1a0-5fe0-48fc-e143-6e453d558b8b"
      },
      "execution_count": 1,
      "outputs": [
        {
          "output_type": "execute_result",
          "data": {
            "text/plain": [
              "'2.0.2'"
            ],
            "application/vnd.google.colaboratory.intrinsic+json": {
              "type": "string"
            }
          },
          "metadata": {},
          "execution_count": 1
        }
      ]
    },
    {
      "cell_type": "markdown",
      "source": [
        "1.Створити матрицю 3х3 і заповнити випадковими числами від 1 до 5"
      ],
      "metadata": {
        "id": "5XcnSpwDNrrc"
      }
    },
    {
      "cell_type": "code",
      "source": [
        "matrix = np.random.randint(1, 6, size=(3, 3))\n",
        "matrix\n",
        "\n"
      ],
      "metadata": {
        "id": "jYu_SZOvN6We",
        "colab": {
          "base_uri": "https://localhost:8080/"
        },
        "outputId": "ba7383b7-0837-422b-d4cf-e8030c05e267"
      },
      "execution_count": 2,
      "outputs": [
        {
          "output_type": "execute_result",
          "data": {
            "text/plain": [
              "array([[3, 5, 5],\n",
              "       [1, 5, 3],\n",
              "       [5, 3, 1]])"
            ]
          },
          "metadata": {},
          "execution_count": 2
        }
      ]
    },
    {
      "cell_type": "markdown",
      "source": [
        "2. Обчислити визначники матриці"
      ],
      "metadata": {
        "id": "e5126mjcCEoO"
      }
    },
    {
      "cell_type": "code",
      "source": [
        "det = np.linalg.det(matrix)\n",
        "det"
      ],
      "metadata": {
        "id": "6l8qrbPvPSmv",
        "colab": {
          "base_uri": "https://localhost:8080/"
        },
        "outputId": "d1d12ebe-9748-4829-d905-6567e1b445dc"
      },
      "execution_count": 4,
      "outputs": [
        {
          "output_type": "execute_result",
          "data": {
            "text/plain": [
              "np.float64(-52.00000000000001)"
            ]
          },
          "metadata": {},
          "execution_count": 4
        }
      ]
    },
    {
      "cell_type": "markdown",
      "source": [
        "3. Знайти добуток елементів"
      ],
      "metadata": {
        "id": "pbpkUTnoCSpb"
      }
    },
    {
      "cell_type": "code",
      "source": [
        "product = np.prod(matrix)\n",
        "product"
      ],
      "metadata": {
        "colab": {
          "base_uri": "https://localhost:8080/"
        },
        "id": "t1qsSocrCWRw",
        "outputId": "1cc2702e-8013-4bf4-a4eb-e1cf45bbad1d"
      },
      "execution_count": 5,
      "outputs": [
        {
          "output_type": "execute_result",
          "data": {
            "text/plain": [
              "np.int64(16875)"
            ]
          },
          "metadata": {},
          "execution_count": 5
        }
      ]
    },
    {
      "cell_type": "code",
      "source": [
        "prod_1 = np.prod(matrix[0])\n",
        "prod_2 = np.prod(matrix[1])\n",
        "prod_3 = np.prod(matrix[2])\n",
        "prod_1*prod_2*prod_3"
      ],
      "metadata": {
        "colab": {
          "base_uri": "https://localhost:8080/"
        },
        "id": "NjMMPqD2Cqv5",
        "outputId": "e365fb32-d69d-4d2d-ef7d-b60e7c8ec659"
      },
      "execution_count": 6,
      "outputs": [
        {
          "output_type": "execute_result",
          "data": {
            "text/plain": [
              "np.int64(16875)"
            ]
          },
          "metadata": {},
          "execution_count": 6
        }
      ]
    },
    {
      "cell_type": "markdown",
      "source": [
        "4. Знайти суму елементів, мінімум,максимум і середне значення"
      ],
      "metadata": {
        "id": "PyyyvhqSDI4I"
      }
    },
    {
      "cell_type": "code",
      "source": [
        "np.sum(matrix)"
      ],
      "metadata": {
        "colab": {
          "base_uri": "https://localhost:8080/"
        },
        "id": "82_H-Sj8DTmy",
        "outputId": "f1cd4761-4186-41e2-e135-0fd13b910b71"
      },
      "execution_count": 7,
      "outputs": [
        {
          "output_type": "execute_result",
          "data": {
            "text/plain": [
              "np.int64(31)"
            ]
          },
          "metadata": {},
          "execution_count": 7
        }
      ]
    },
    {
      "cell_type": "code",
      "source": [
        "np.max(matrix)"
      ],
      "metadata": {
        "colab": {
          "base_uri": "https://localhost:8080/"
        },
        "id": "iF4f3S7TDbE2",
        "outputId": "51a49bd1-cae9-4389-c90a-5a74cd7fb85a"
      },
      "execution_count": 8,
      "outputs": [
        {
          "output_type": "execute_result",
          "data": {
            "text/plain": [
              "np.int64(5)"
            ]
          },
          "metadata": {},
          "execution_count": 8
        }
      ]
    },
    {
      "cell_type": "code",
      "source": [
        "np.min(matrix)"
      ],
      "metadata": {
        "colab": {
          "base_uri": "https://localhost:8080/"
        },
        "id": "W9kVDkabDfyW",
        "outputId": "6f06b168-3411-4a6a-c830-75144128525a"
      },
      "execution_count": 9,
      "outputs": [
        {
          "output_type": "execute_result",
          "data": {
            "text/plain": [
              "np.int64(1)"
            ]
          },
          "metadata": {},
          "execution_count": 9
        }
      ]
    },
    {
      "cell_type": "code",
      "source": [
        "mean = np.mean(matrix)\n",
        "print(mean)"
      ],
      "metadata": {
        "colab": {
          "base_uri": "https://localhost:8080/"
        },
        "id": "9Ljda_aaDl3K",
        "outputId": "85f164c5-896d-468f-c2f8-1447be1c8671"
      },
      "execution_count": 10,
      "outputs": [
        {
          "output_type": "stream",
          "name": "stdout",
          "text": [
            "3.4444444444444446\n"
          ]
        }
      ]
    },
    {
      "cell_type": "markdown",
      "source": [
        "5. ОБчислити матрицю квадратних коренів"
      ],
      "metadata": {
        "id": "_q2Mvz-xDwad"
      }
    },
    {
      "cell_type": "code",
      "source": [
        "sqrt_matrix = np.sqrt(matrix)\n",
        "print(sqrt_matrix)"
      ],
      "metadata": {
        "colab": {
          "base_uri": "https://localhost:8080/"
        },
        "id": "zHthW3PUD5hX",
        "outputId": "c50198e8-1e58-4d23-b07f-d1dda5eb5115"
      },
      "execution_count": 11,
      "outputs": [
        {
          "output_type": "stream",
          "name": "stdout",
          "text": [
            "[[1.73205081 2.23606798 2.23606798]\n",
            " [1.         2.23606798 1.73205081]\n",
            " [2.23606798 1.73205081 1.        ]]\n"
          ]
        }
      ]
    },
    {
      "cell_type": "markdown",
      "source": [
        "6. Обчислити суму улументів кожного рядка"
      ],
      "metadata": {
        "id": "0p6-E0KcEITJ"
      }
    },
    {
      "cell_type": "code",
      "source": [
        "row_sum = np.sum(matrix, axis=-1).reshape(-1, 1)\n",
        "print(row_sum)"
      ],
      "metadata": {
        "colab": {
          "base_uri": "https://localhost:8080/"
        },
        "id": "7GGa-hahEQgc",
        "outputId": "15666bf0-e16a-4b77-a470-f81ccfe5ed66"
      },
      "execution_count": 12,
      "outputs": [
        {
          "output_type": "stream",
          "name": "stdout",
          "text": [
            "[[13]\n",
            " [ 9]\n",
            " [ 9]]\n"
          ]
        }
      ]
    },
    {
      "cell_type": "code",
      "source": [
        "matrix.sum(axis=1).reshape(-1, 1)"
      ],
      "metadata": {
        "colab": {
          "base_uri": "https://localhost:8080/"
        },
        "id": "-TAfHTq5Eo81",
        "outputId": "4ddd7c10-c0e7-4aff-a2a8-3951df199705"
      },
      "execution_count": 13,
      "outputs": [
        {
          "output_type": "execute_result",
          "data": {
            "text/plain": [
              "array([[13],\n",
              "       [ 9],\n",
              "       [ 9]])"
            ]
          },
          "metadata": {},
          "execution_count": 13
        }
      ]
    },
    {
      "cell_type": "code",
      "source": [
        "x = np.matrix([[1, 2], [3, 4]])\n",
        "x"
      ],
      "metadata": {
        "colab": {
          "base_uri": "https://localhost:8080/"
        },
        "id": "fiviW6QpE1Fv",
        "outputId": "baa572e8-d987-4f89-a1c5-1352de5fb0a6"
      },
      "execution_count": 14,
      "outputs": [
        {
          "output_type": "execute_result",
          "data": {
            "text/plain": [
              "matrix([[1, 2],\n",
              "        [3, 4]])"
            ]
          },
          "metadata": {},
          "execution_count": 14
        }
      ]
    },
    {
      "cell_type": "code",
      "source": [
        "x.sum(axis=1)"
      ],
      "metadata": {
        "colab": {
          "base_uri": "https://localhost:8080/"
        },
        "id": "G41XBTyBE_as",
        "outputId": "f96e9cda-ef51-4412-ae22-6b479085bc20"
      },
      "execution_count": 15,
      "outputs": [
        {
          "output_type": "execute_result",
          "data": {
            "text/plain": [
              "matrix([[3],\n",
              "        [7]])"
            ]
          },
          "metadata": {},
          "execution_count": 15
        }
      ]
    },
    {
      "cell_type": "markdown",
      "source": [
        "7. Створення вектора з 25 елементів від 0 до 9 і сортування чисел за спаданням"
      ],
      "metadata": {
        "id": "TsbYifQ0FFnQ"
      }
    },
    {
      "cell_type": "code",
      "source": [
        "vector = np.random.randint(0, 10, size=25)\n",
        "vector"
      ],
      "metadata": {
        "colab": {
          "base_uri": "https://localhost:8080/"
        },
        "id": "FCvDxM_bFRv5",
        "outputId": "f5078090-b744-4439-fb0c-0005d098d1e0"
      },
      "execution_count": 18,
      "outputs": [
        {
          "output_type": "execute_result",
          "data": {
            "text/plain": [
              "array([6, 9, 8, 1, 2, 5, 1, 3, 8, 5, 7, 2, 3, 2, 5, 6, 6, 5, 6, 1, 5, 3,\n",
              "       7, 0, 8])"
            ]
          },
          "metadata": {},
          "execution_count": 18
        }
      ]
    },
    {
      "cell_type": "code",
      "source": [
        "#Відсортуємо за спаданням\n",
        "sorted_vector = np.sort(vector)[::-1]\n",
        "sorted_vector"
      ],
      "metadata": {
        "colab": {
          "base_uri": "https://localhost:8080/"
        },
        "id": "ls0fZVF6FikK",
        "outputId": "0d9e631c-5dcd-4b56-da24-807979441cd3"
      },
      "execution_count": 19,
      "outputs": [
        {
          "output_type": "execute_result",
          "data": {
            "text/plain": [
              "array([9, 8, 8, 8, 7, 7, 6, 6, 6, 6, 5, 5, 5, 5, 5, 3, 3, 3, 2, 2, 2, 1,\n",
              "       1, 1, 0])"
            ]
          },
          "metadata": {},
          "execution_count": 19
        }
      ]
    },
    {
      "cell_type": "markdown",
      "source": [
        "![image.png](data:image/png;base64,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)"
      ],
      "metadata": {
        "id": "K15WLn3JTtIH"
      }
    },
    {
      "cell_type": "code",
      "source": [
        "import numpy as np\n",
        "a = np.array([\n",
        "    [1, 2, 1],\n",
        "    [2, 1, 1],\n",
        "    [3, 2, 2],\n",
        "])\n",
        "b = np.array([[4], [3], [2]])"
      ],
      "metadata": {
        "id": "7JEVJYL8WKye"
      },
      "execution_count": 20,
      "outputs": []
    },
    {
      "cell_type": "code",
      "source": [
        "#Матричний метод (1 спосіб)\n",
        "det_a = np.linalg.det(a)\n",
        "if det_a == 0:\n",
        "    print(\"Визначник дорівнює нулю - рішень немає\")\n",
        "else:\n",
        "  a_inv = np.linalg.inv(a)\n",
        "  print(f\"Обернена матриця до матриці A: \\r\\n {a_inv }\")\n",
        "  print(f\"Вектор рішення: \\r\\n {a_inv.dot(b)}\")"
      ],
      "metadata": {
        "id": "7okvb_2AXGrN",
        "colab": {
          "base_uri": "https://localhost:8080/"
        },
        "outputId": "078923c9-aa6f-4783-acc3-cec8d1a04c15"
      },
      "execution_count": 21,
      "outputs": [
        {
          "output_type": "stream",
          "name": "stdout",
          "text": [
            "Обернена матриця до матриці A: \r\n",
            " [[-7.40148683e-17  2.00000000e+00 -1.00000000e+00]\n",
            " [ 1.00000000e+00  1.00000000e+00 -1.00000000e+00]\n",
            " [-1.00000000e+00 -4.00000000e+00  3.00000000e+00]]\n",
            "Вектор рішення: \r\n",
            " [[  4.]\n",
            " [  5.]\n",
            " [-10.]]\n"
          ]
        }
      ]
    },
    {
      "cell_type": "code",
      "source": [
        "#метод Крамера (1 спосіб)\n",
        "# Метод Крамера\n",
        "det_a = np.linalg.det(a)\n",
        "\n",
        "if det_a == 0:\n",
        "    print(\"Визначник дорівнює нулю — система не має єдиного розв’язку.\")\n",
        "else:\n",
        "    def replace_column(matrix, column_index, new_column):\n",
        "        new_matrix = np.copy(matrix)\n",
        "        new_matrix[:, column_index] = new_column\n",
        "        return new_matrix\n",
        "\n",
        "    # Обчислюємо Δx, Δy, Δz\n",
        "    delta_x = np.linalg.det(replace_column(a, 0, b.T))\n",
        "    delta_y = np.linalg.det(replace_column(a, 1, b.T))\n",
        "    delta_z = np.linalg.det(replace_column(a, 2, b.T))\n",
        "\n",
        "    # Обчислюємо x, y, z\n",
        "    print('x =', delta_x / det_a)\n",
        "    print('y =', delta_y / det_a)\n",
        "    print('z =', delta_z / det_a)"
      ],
      "metadata": {
        "id": "yWMkM-acYwU1",
        "colab": {
          "base_uri": "https://localhost:8080/"
        },
        "outputId": "2cbc5dd4-89ae-4ee9-85c2-7cf33d35448e"
      },
      "execution_count": 22,
      "outputs": [
        {
          "output_type": "stream",
          "name": "stdout",
          "text": [
            "x = 3.999999999999999\n",
            "y = 5.0\n",
            "z = -10.0\n"
          ]
        }
      ]
    },
    {
      "cell_type": "code",
      "source": [
        "x = np.linalg.solve(a, b)\n",
        "\n",
        "print(x)"
      ],
      "metadata": {
        "id": "O025cm6PYzLN",
        "colab": {
          "base_uri": "https://localhost:8080/"
        },
        "outputId": "24cbf736-8f8f-4961-fca5-ae1bf5ffb5a1"
      },
      "execution_count": 23,
      "outputs": [
        {
          "output_type": "stream",
          "name": "stdout",
          "text": [
            "[[  4.]\n",
            " [  5.]\n",
            " [-10.]]\n"
          ]
        }
      ]
    }
  ]
}