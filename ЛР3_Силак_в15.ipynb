{
  "nbformat": 4,
  "nbformat_minor": 0,
  "metadata": {
    "colab": {
      "provenance": [],
      "include_colab_link": true
    },
    "kernelspec": {
      "name": "python3",
      "display_name": "Python 3"
    },
    "language_info": {
      "name": "python"
    }
  },
  "cells": [
    {
      "cell_type": "markdown",
      "metadata": {
        "id": "view-in-github",
        "colab_type": "text"
      },
      "source": [
        "<a href=\"https://colab.research.google.com/github/Anton-commits/NM/blob/main/%D0%9B%D0%A03_%D0%A1%D0%B8%D0%BB%D0%B0%D0%BA_%D0%B215.ipynb\" target=\"_parent\"><img src=\"https://colab.research.google.com/assets/colab-badge.svg\" alt=\"Open In Colab\"/></a>"
      ]
    },
    {
      "cell_type": "markdown",
      "source": [
        "Філімонова Тетяна. Варіант 3"
      ],
      "metadata": {
        "id": "HlvFbYQzhdIu"
      }
    },
    {
      "cell_type": "markdown",
      "source": [
        "1. Метод ділення навпіл."
      ],
      "metadata": {
        "id": "VgrW9zRY0dVt"
      }
    },
    {
      "cell_type": "code",
      "execution_count": 1,
      "metadata": {
        "colab": {
          "base_uri": "https://localhost:8080/"
        },
        "id": "iOTNXySVyeHy",
        "outputId": "489eba4a-d403-4a88-e304-698ca41468f7"
      },
      "outputs": [
        {
          "output_type": "stream",
          "name": "stdout",
          "text": [
            "Результати обчислень\n",
            "\n",
            "          a      F(a)         c      F(c)       b      F(b)\n",
            "0 -3.000000  0.977954 -2.000000  1.135204 -1.0000 -0.454649\n",
            "1 -2.000000  1.135204 -1.500000 -0.123480 -1.0000 -0.454649\n",
            "2 -2.000000  1.135204 -1.750000  0.405593 -1.5000 -0.123480\n",
            "3 -1.750000  0.405593 -1.625000  0.109040 -1.5000 -0.123480\n",
            "4 -1.625000  0.109040 -1.562500 -0.015587 -1.5000 -0.123480\n",
            "5 -1.625000  0.109040 -1.593750  0.044659 -1.5625 -0.015587\n",
            "6 -1.593750  0.044659 -1.578125  0.014015 -1.5625 -0.015587\n",
            "7 -1.578125  0.014015 -1.570312 -0.000917 -1.5625 -0.015587\n",
            "\n",
            "В точці с =  -1.5703125 , f(c) =  -0.0009171268569415665\n"
          ]
        }
      ],
      "source": [
        "import numpy as np\n",
        "import pandas as pd\n",
        "\n",
        "# Визначаємо функцію\n",
        "def f (x):\n",
        "    y = np.cos(x)*np.sin(x)*(x**2+x+1)\n",
        "    return y\n",
        "# Визначаємо границі відрізку\n",
        "a, b = -3, -1\n",
        "# Визначаємо точність розв'язку\n",
        "eps = 0.001\n",
        "# Поділяємо відрізок навпіл\n",
        "c = (a+b)/2\n",
        "# Зберігаємо результати обчислень\n",
        "data_A = [a]\n",
        "data_B = [b]\n",
        "data_C = [c]\n",
        "data_F_A = [f(a)]\n",
        "data_F_B = [f(b)]\n",
        "data_F_C = [f(c)]\n",
        "# Перевіряємо досягнення точності\n",
        "while np.abs(f(c)) > eps:\n",
        "    # Звужуємо відрізок\n",
        "    if np.sign(f(c)) == np.sign(f(a)):\n",
        "        a = c\n",
        "    else:\n",
        "        b = c\n",
        "    # Поділяємо відрізок навпіл\n",
        "    c = (a+b)/2\n",
        "    # Зберігаємо результати обчислень\n",
        "    data_A.append(a)\n",
        "    data_B.append(b)\n",
        "    data_C.append(c)\n",
        "    data_F_A.append(f(a))\n",
        "    data_F_B.append(f(b))\n",
        "    data_F_C.append(f(c))\n",
        "# Відображаємо результати обчислень\n",
        "print('Результати обчислень')\n",
        "print()\n",
        "data = pd.DataFrame({'a': data_A,\n",
        "                     'F(a)': data_F_A,\n",
        "                     'c': data_C,\n",
        "                     'F(c)': data_F_C,\n",
        "                     'b': data_B,\n",
        "                     'F(b)': data_F_B})\n",
        "print(data)\n",
        "# Відображаємо наближений корінь рівняння\n",
        "print()\n",
        "print('В точці с = ', c, ', f(c) = ', f(c))"
      ]
    },
    {
      "cell_type": "markdown",
      "source": [
        "2. Метод ділення навпіл"
      ],
      "metadata": {
        "id": "5hYa7ucn0PEN"
      }
    },
    {
      "cell_type": "code",
      "source": [
        "import numpy as np\n",
        "import scipy.optimize as sp\n",
        "\n",
        "def f(x):\n",
        "    y = np.cos(x)*np.sin(x)*(x**2+x+1)\n",
        "    return y\n",
        "\n",
        "a, b = -3, -1\n",
        "eps = 1.e-3\n",
        "\n",
        "x = sp.bisect(f, a, b,(),eps) #функція для метода\n",
        "\n",
        "print('The approximate solution x is:', x)\n",
        "print('And the value f(x) is:', f(x))"
      ],
      "metadata": {
        "colab": {
          "base_uri": "https://localhost:8080/"
        },
        "id": "ML3KEw5q0H1e",
        "outputId": "b296155a-2782-4f53-b9a4-b2af8077e952"
      },
      "execution_count": 2,
      "outputs": [
        {
          "output_type": "stream",
          "name": "stdout",
          "text": [
            "The approximate solution x is: -1.5712890625\n",
            "And the value f(x) is: 0.0009350448126615916\n"
          ]
        }
      ]
    },
    {
      "cell_type": "markdown",
      "source": [
        "3. Метод хорд"
      ],
      "metadata": {
        "id": "sYf0IvR41ufd"
      }
    },
    {
      "cell_type": "code",
      "source": [
        "import numpy as np\n",
        "import pandas as pd\n",
        "# Визначаємо функцію\n",
        "def f(x):\n",
        "    y = np.cos(x)*np.sin(x)*(x**2+x+1)\n",
        "    return y\n",
        "# Визначаємо межі відрізку\n",
        "a, b = -3, -1\n",
        "# Визначаємо точність розв'язку\n",
        "eps = 0.001\n",
        "# Точка, де хорда перетинає вісь 0x\n",
        "c = (f(a)*b-a*f(b))/(f(a)-f(b))\n",
        "\n",
        "# Зберігаємо результати обчислень\n",
        "data_A = [a]\n",
        "data_B = [b]\n",
        "data_C = [c]\n",
        "data_F_A = [f(a)]\n",
        "data_F_B = [f(b)]\n",
        "data_F_C = [f(c)]\n",
        "# Перевіряємо досягнення точності\n",
        "while np.abs(f(c)) > eps:\n",
        "    # Звужуємо відрізок\n",
        "    if np.sign(f(c)) == np.sign(f(a)):\n",
        "        a = c\n",
        "    else:\n",
        "        b = c\n",
        "    # Точка, де хорда перетинає вісь 0x\n",
        "    c = (f(a)*b-a*f(b))/(f(a)-f(b))\n",
        "    # Зберігаємо результати обчислень\n",
        "    data_A.append(a)\n",
        "    data_B.append(b)\n",
        "    data_C.append(c)\n",
        "    data_F_A.append(f(a))\n",
        "    data_F_B.append(f(b))\n",
        "    data_F_C.append(f(c))\n",
        "# Відображаємо результати обчислень\n",
        "print('Результати обчислень')\n",
        "print()\n",
        "data = pd.DataFrame({'a': data_A, 'F(a)': data_F_A,\n",
        "                     'c': data_C, 'F(c)': data_F_C,\n",
        "                     'b': data_B, 'F(b)': data_F_B})\n",
        "print(data)\n",
        "# Відображаємо наближений корінь рівняння\n",
        "print()\n",
        "print('В точці с = ', c, ', f(c) = ', f(c))"
      ],
      "metadata": {
        "colab": {
          "base_uri": "https://localhost:8080/"
        },
        "id": "3p6i5xHK1y3l",
        "outputId": "1865648d-38f8-422e-90e1-e1ede51cdde0"
      },
      "execution_count": 3,
      "outputs": [
        {
          "output_type": "stream",
          "name": "stdout",
          "text": [
            "Результати обчислень\n",
            "\n",
            "          a      F(a)         c      F(c)         b      F(b)\n",
            "0 -3.000000  0.977954 -1.634717  0.129889 -1.000000 -0.454649\n",
            "1 -1.634717  0.129889 -1.493678 -0.133455 -1.000000 -0.454649\n",
            "2 -1.634717  0.129889 -1.565152 -0.010636 -1.493678 -0.133455\n",
            "3 -1.634717  0.129889 -1.570418 -0.000718 -1.565152 -0.010636\n",
            "\n",
            "В точці с =  -1.5704175737258015 , f(c) =  -0.0007180376446871882\n"
          ]
        }
      ]
    },
    {
      "cell_type": "markdown",
      "source": [
        "4. Метод Ньютона (дотичних)"
      ],
      "metadata": {
        "id": "40blPBSK2Cdm"
      }
    },
    {
      "cell_type": "code",
      "source": [
        "import numpy as np\n",
        "import pandas as pd\n",
        "# Визначаємо функцію\n",
        "def f(x):\n",
        "    y = np.cos(x)*np.sin(x)*(x**2+x+1)\n",
        "    return y\n",
        "# Визначаємо першу похідну\n",
        "def df(x):\n",
        "    y1 = -(x**2+x+1)*(np.sin(x))**2\n",
        "    y2 = (x**2+x+1)*(np.cos(x))**2\n",
        "    y3 = (2*x+1)*np.sin(x)*np.cos(x)\n",
        "    y = y1+y2+y3\n",
        "    return y\n",
        "# Визначаємо початкову точку\n",
        "c = -1.4\n",
        "# Визначаємо точність розв'язку\n",
        "eps = 0.001\n",
        "# Зберігаємо результати обчислень\n",
        "data_C = [c]\n",
        "data_F_C = [f(c)]\n",
        "# Перевіряємо досягнення точності\n",
        "while np.abs(f(c)) > eps:\n",
        "    # Точка, де дотична перетинає вісь 0x\n",
        "    c -= f(c)/df(c)\n",
        "    # Зберігаємо результати обчислень\n",
        "    data_C.append(c)\n",
        "    data_F_C.append(f(c))\n",
        "# Відображаємо результати обчислень\n",
        "print('Результати обчислень')\n",
        "print()\n",
        "data = pd.DataFrame({'c': data_C, 'F(c)': data_F_C})\n",
        "print(data)\n",
        "# Відображаємо наближений корінь рівняння\n",
        "print()\n",
        "print('В точці с = ', c, ', f(c) = ', f(c))"
      ],
      "metadata": {
        "colab": {
          "base_uri": "https://localhost:8080/"
        },
        "id": "WeGQjbjW2HDz",
        "outputId": "39fa85a4-1495-49cf-e197-fde250b18ce2"
      },
      "execution_count": 4,
      "outputs": [
        {
          "output_type": "stream",
          "name": "stdout",
          "text": [
            "Результати обчислень\n",
            "\n",
            "          c      F(c)\n",
            "0 -1.400000 -0.261291\n",
            "1 -1.623636  0.106144\n",
            "2 -1.573564  0.005266\n",
            "3 -1.570805  0.000016\n",
            "\n",
            "В точці с =  -1.5708049170979717 , f(c) =  1.6292567852764437e-05\n"
          ]
        }
      ]
    },
    {
      "cell_type": "markdown",
      "source": [
        "5. Метод Ньютона (дотичних)"
      ],
      "metadata": {
        "id": "qjI38bTp0xCo"
      }
    },
    {
      "cell_type": "code",
      "source": [
        "import numpy as np\n",
        "import scipy.optimize as sp\n",
        "\n",
        "def f(x):\n",
        "    y = np.cos(x)*np.sin(x)*(x**2+x+1)\n",
        "    return y\n",
        "\n",
        "def df(x):# Обчислення похідної\n",
        "    y1 = -(x**2+x+1)*(np.sin(x))**2\n",
        "    y2 = (x**2+x+1)*(np.cos(x))**2\n",
        "    y3 = (2*x+1)*np.sin(x)*np.cos(x)\n",
        "    y = y1+y2+y3\n",
        "    return y\n",
        "\n",
        "x0 = -1.4\n",
        "x1 = 1.4\n",
        "\n",
        "x_0 = sp.newton(f, x0, df, tol=1.e-3, maxiter=50)\n",
        "x_1 = sp.newton(f, x1, df, tol=1.e-3, maxiter=50)\n",
        "\n",
        "print('The approximate solution x is:', x_0)\n",
        "print('And the value f(x_0) is:', f(x_0))\n",
        "\n",
        "print('The approximate solution x is:', x_1)\n",
        "print('And the value f(x_0) is:', f(x_1))"
      ],
      "metadata": {
        "colab": {
          "base_uri": "https://localhost:8080/"
        },
        "id": "AonZxq_H0m6-",
        "outputId": "da8d6648-475f-4dc2-dea6-832e651f26b7"
      },
      "execution_count": 5,
      "outputs": [
        {
          "output_type": "stream",
          "name": "stdout",
          "text": [
            "The approximate solution x is: -1.5707963268782201\n",
            "And the value f(x_0) is: 1.5803176499052036e-10\n",
            "The approximate solution x is: 1.5707963267958693\n",
            "And the value f(x_0) is: -4.9007361645997675e-12\n"
          ]
        }
      ]
    },
    {
      "cell_type": "markdown",
      "source": [
        " # Знаходження коренів рівняння за допомогою бібліотеки SymPy"
      ],
      "metadata": {
        "id": "pvK9N9TH1QD-"
      }
    },
    {
      "cell_type": "code",
      "source": [
        "import sympy as sym\n",
        "\n",
        "x = sym.Symbol('x')\n",
        "\n",
        "y = sym.cos(x)*sym.sin(x)*(x**2+x+1)\n",
        "\n",
        "s = sym.solve(y)\n",
        "\n",
        "print(s)"
      ],
      "metadata": {
        "colab": {
          "base_uri": "https://localhost:8080/"
        },
        "id": "PuAp1WCr08qt",
        "outputId": "e7d43063-5ee8-438d-dc1d-f948ea9f8d9f"
      },
      "execution_count": 6,
      "outputs": [
        {
          "output_type": "stream",
          "name": "stdout",
          "text": [
            "[0, pi/2, pi, 3*pi/2, -1/2 - sqrt(3)*I/2, -1/2 + sqrt(3)*I/2]\n"
          ]
        }
      ]
    },
    {
      "cell_type": "code",
      "source": [
        "import sympy as sym\n",
        "\n",
        "x, a, b, c = sym.symbols('x, a, b, c')\n",
        "\n",
        "y = a * x**2 + b * x + c\n",
        "\n",
        "s = sym.solve(y, x)\n",
        "\n",
        "print(s)"
      ],
      "metadata": {
        "colab": {
          "base_uri": "https://localhost:8080/"
        },
        "id": "Y0d-uHtp1c7r",
        "outputId": "546fd09b-1ec6-46ca-c9cf-0ca9176fc19d"
      },
      "execution_count": 7,
      "outputs": [
        {
          "output_type": "stream",
          "name": "stdout",
          "text": [
            "[(-b - sqrt(-4*a*c + b**2))/(2*a), (-b + sqrt(-4*a*c + b**2))/(2*a)]\n"
          ]
        }
      ]
    },
    {
      "cell_type": "markdown",
      "source": [],
      "metadata": {
        "id": "mk1oBvYj1GC2"
      }
    },
    {
      "cell_type": "code",
      "source": [
        "!pip install numdifftools"
      ],
      "metadata": {
        "colab": {
          "base_uri": "https://localhost:8080/"
        },
        "id": "yiLJNuM3Cq0-",
        "outputId": "17fa03f8-ef5b-40cb-f8b8-0824fa0059ee"
      },
      "execution_count": 8,
      "outputs": [
        {
          "output_type": "stream",
          "name": "stdout",
          "text": [
            "Collecting numdifftools\n",
            "  Downloading numdifftools-0.9.41-py2.py3-none-any.whl.metadata (39 kB)\n",
            "Requirement already satisfied: numpy>=1.9 in /usr/local/lib/python3.12/dist-packages (from numdifftools) (2.0.2)\n",
            "Requirement already satisfied: scipy>=0.8 in /usr/local/lib/python3.12/dist-packages (from numdifftools) (1.16.2)\n",
            "Downloading numdifftools-0.9.41-py2.py3-none-any.whl (100 kB)\n",
            "\u001b[2K   \u001b[90m━━━━━━━━━━━━━━━━━━━━━━━━━━━━━━━━━━━━━━━━\u001b[0m \u001b[32m100.2/100.2 kB\u001b[0m \u001b[31m3.0 MB/s\u001b[0m eta \u001b[36m0:00:00\u001b[0m\n",
            "\u001b[?25hInstalling collected packages: numdifftools\n",
            "Successfully installed numdifftools-0.9.41\n"
          ]
        }
      ]
    },
    {
      "cell_type": "code",
      "source": [
        "#Лабораторна робота 2\n",
        "#Відокремлення коренів\n",
        "import numpy as np\n",
        "import numdifftools as nd\n",
        "\n",
        "def f(x):\n",
        "    return 3*x**4 + 10*x**3 + x**2 - 5*x - 3\n",
        "\n",
        "\n",
        "def find_segments(): #відокремлюємо корені\n",
        "    search_range = np.arange(-5, 5, 1)\n",
        "\n",
        "    a = None\n",
        "    previous_x = None\n",
        "    current_x  = None\n",
        "    segments = []\n",
        "\n",
        "    for x in search_range:\n",
        "        x = round(x, 4)\n",
        "        current_x = f(x)\n",
        "        if previous_x != None and previous_x * current_x < 0:\n",
        "            segments.append((a, x))\n",
        "        a = x\n",
        "        previous_x = current_x\n",
        "    return segments\n",
        "\n",
        "segments = find_segments()\n",
        "for a, b in segments:\n",
        "    print(f'Found segment:  [{a}, {b}]')\n"
      ],
      "metadata": {
        "colab": {
          "base_uri": "https://localhost:8080/"
        },
        "id": "L-9dn4npCso-",
        "outputId": "30564a1b-6264-4a72-ea1a-27b215ead78c"
      },
      "execution_count": 9,
      "outputs": [
        {
          "output_type": "stream",
          "name": "stdout",
          "text": [
            "Found segment:  [-4, -3]\n",
            "Found segment:  [0, 1]\n"
          ]
        }
      ]
    },
    {
      "cell_type": "code",
      "source": [
        "import numpy as np\n",
        "import matplotlib.pyplot as plt\n",
        "\n",
        "# Визначення функції\n",
        "def f(x):\n",
        "    return 3*x**4 + 10*x**3 + x**2 - 5*x - 3\n",
        "\n",
        "# Генерація значень x\n",
        "x = np.linspace(-4, 4, 100)\n",
        "\n",
        "# Генерація значень y\n",
        "y = f(x)\n",
        "\n",
        "# Побудова графіка\n",
        "plt.figure(figsize=(8, 6))\n",
        "plt.plot(x, y, label='3*x**4 + 10*x**3 + x**2 - 5*x - 3', color='blue')\n",
        "plt.title('Графік функції 3*x**4 + 10*x**3 + x**2 - 5*x - 3')\n",
        "plt.xlabel('x')\n",
        "plt.ylabel('f(x)')\n",
        "\n",
        "# Додавання осей з стрілками\n",
        "plt.axhline(0, color='black', linewidth=0.5)\n",
        "plt.axvline(0, color='black', linewidth=0.5)\n",
        "\n",
        "plt.text(2.05, -4, 'x', ha='center', va='center')\n",
        "plt.text(-0.3, 190, 'y', ha='center', va='center')\n",
        "\n",
        "plt.grid(True)\n",
        "plt.legend()\n",
        "plt.show()\n"
      ],
      "metadata": {
        "colab": {
          "base_uri": "https://localhost:8080/",
          "height": 564
        },
        "id": "7zUI3d1xZXar",
        "outputId": "a990ec32-a832-4a49-87fa-8567e682faa0"
      },
      "execution_count": 10,
      "outputs": [
        {
          "output_type": "display_data",
          "data": {
            "text/plain": [
              "<Figure size 800x600 with 1 Axes>"
            ],
            "image/png": "[encoded data removed]"
          },
          "metadata": {}
        }
      ]
    },
    {
      "cell_type": "markdown",
      "source": [
        "![image.png](data:image/png;base64,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)"
      ],
      "metadata": {
        "id": "eb9uwLLsZg_X"
      }
    },
    {
      "cell_type": "code",
      "source": [
        "#Лабораторна робота. Метод половинного ділення, хорд\n",
        "\n",
        "def rec(a, b, eps):  # метод половинного ділення\n",
        "    while (np.abs(a - b) > eps):\n",
        "        if f(a) * f((a + b) / 2) < 0:\n",
        "            b = (a + b) / 2\n",
        "        else:\n",
        "            a = (a + b) / 2\n",
        "        x = (a + b) / 2\n",
        "\n",
        "    print('x= ', round(x, 5), '  -   Half division method')\n"
      ],
      "metadata": {
        "id": "BgjK94O9Cfxe"
      },
      "execution_count": 11,
      "outputs": []
    },
    {
      "cell_type": "code",
      "source": [
        "def hord(a, b, eps):  # метод хорд\n",
        "    derivative_f = nd.Derivative(f, n=2)\n",
        "    if f(a) * derivative_f(a) > 0:\n",
        "        x0 = a\n",
        "        xi = b\n",
        "    else:\n",
        "        x0 = b\n",
        "        xi = a\n",
        "    xi_1 = xi - (xi - x0) * f(xi) / (f(xi) - f(x0))\n",
        "    while (np.abs(xi_1 - xi) > eps):\n",
        "        xi = xi_1\n",
        "        xi_1 = xi - (xi - x0) * f(xi) / (f(xi) - f(x0))\n",
        "    print('x= ', round(xi_1, 5), '  -   Chord method')\n"
      ],
      "metadata": {
        "id": "Sz_KWVf7D2tL"
      },
      "execution_count": 12,
      "outputs": []
    },
    {
      "cell_type": "code",
      "source": [
        "if __name__ == \"__main__\":\n",
        "    a1, b1 = -4, -3\n",
        "    a2, b2 = 0, 1\n",
        "    eps = 0.001\n",
        "    print(\"Розв'язки на відрізку [-4,-3]\")\n",
        "    rec(a1, b1, eps)\n",
        "    hord(a1, b1, eps)\n",
        "    print(\"\\n Розв'язки на відрізку [0,1]\")\n",
        "    rec(a2, b2, eps)\n",
        "    hord(a2, b2, eps)"
      ],
      "metadata": {
        "id": "upx7R4yoFZj_",
        "outputId": "a85b988b-589b-45f0-c672-d2c842033f9a",
        "colab": {
          "base_uri": "https://localhost:8080/"
        }
      },
      "execution_count": 13,
      "outputs": [
        {
          "output_type": "stream",
          "name": "stdout",
          "text": [
            "Розв'язки на відрізку [-4,-3]\n",
            "x=  -3.08447   -   Half division method\n",
            "x=  -3.08329   -   Chord method\n",
            "\n",
            " Розв'язки на відрізку [0,1]\n",
            "x=  0.80029   -   Half division method\n",
            "x=  0.80016   -   Chord method\n"
          ]
        }
      ]
    },
    {
      "cell_type": "code",
      "source": [
        "import sympy as sym\n",
        "\n",
        "x, a, b, c = sym.symbols('x, a, b, c')\n",
        "f = 3*x**4 + 10*x**3 + x**2 - 5*x - 3\n",
        "s = sym.solve(f, x)\n",
        "print(s)"
      ],
      "metadata": {
        "id": "cYJ-q7uyvA2L",
        "colab": {
          "base_uri": "https://localhost:8080/"
        },
        "outputId": "5f2259de-61f7-4dfa-85b3-4c53c9005ca6"
      },
      "execution_count": 14,
      "outputs": [
        {
          "output_type": "stream",
          "name": "stdout",
          "text": [
            "[-5/6 - sqrt(23/9 + 43/(162*(-4975/11664 + sqrt(301637)/1296)**(1/3)) + 2*(-4975/11664 + sqrt(301637)/1296)**(1/3))/2 + sqrt(46/9 - 2*(-4975/11664 + sqrt(301637)/1296)**(1/3) + 130/(27*sqrt(23/9 + 43/(162*(-4975/11664 + sqrt(301637)/1296)**(1/3)) + 2*(-4975/11664 + sqrt(301637)/1296)**(1/3))) - 43/(162*(-4975/11664 + sqrt(301637)/1296)**(1/3)))/2, -5/6 + sqrt(23/9 + 43/(162*(-4975/11664 + sqrt(301637)/1296)**(1/3)) + 2*(-4975/11664 + sqrt(301637)/1296)**(1/3))/2 + sqrt(46/9 - 130/(27*sqrt(23/9 + 43/(162*(-4975/11664 + sqrt(301637)/1296)**(1/3)) + 2*(-4975/11664 + sqrt(301637)/1296)**(1/3))) - 2*(-4975/11664 + sqrt(301637)/1296)**(1/3) - 43/(162*(-4975/11664 + sqrt(301637)/1296)**(1/3)))/2, -5/6 - sqrt(46/9 - 2*(-4975/11664 + sqrt(301637)/1296)**(1/3) + 130/(27*sqrt(23/9 + 43/(162*(-4975/11664 + sqrt(301637)/1296)**(1/3)) + 2*(-4975/11664 + sqrt(301637)/1296)**(1/3))) - 43/(162*(-4975/11664 + sqrt(301637)/1296)**(1/3)))/2 - sqrt(23/9 + 43/(162*(-4975/11664 + sqrt(301637)/1296)**(1/3)) + 2*(-4975/11664 + sqrt(301637)/1296)**(1/3))/2, -5/6 - sqrt(46/9 - 130/(27*sqrt(23/9 + 43/(162*(-4975/11664 + sqrt(301637)/1296)**(1/3)) + 2*(-4975/11664 + sqrt(301637)/1296)**(1/3))) - 2*(-4975/11664 + sqrt(301637)/1296)**(1/3) - 43/(162*(-4975/11664 + sqrt(301637)/1296)**(1/3)))/2 + sqrt(23/9 + 43/(162*(-4975/11664 + sqrt(301637)/1296)**(1/3)) + 2*(-4975/11664 + sqrt(301637)/1296)**(1/3))/2]\n"
          ]
        }
      ]
    },
    {
      "cell_type": "code",
      "source": [
        "#Лабораторна робота 3. Метод Ньютона (дотичних). Комбінований метод\n",
        "\n",
        "import numpy as np\n",
        "import numdifftools as nd\n",
        "\n",
        "def f(x):\n",
        "    return 3*x**4 + 10*x**3 + x**2 - 5*x - 3\n",
        "\n",
        "def nuton(a, b, eps, f):\n",
        "    df1 = nd.Derivative(f, n=1)   # створюємо callable для 1-ї похідної\n",
        "    df2 = nd.Derivative(f, n=2)   # і для 2-ї\n",
        "    xi = b if f(b) * df2(b) > 0 else a\n",
        "\n",
        "    xi_1 = xi - f(xi) / df1(xi)\n",
        "    while np.abs(xi_1 - xi) > eps:\n",
        "        xi = xi_1\n",
        "        d = df1(xi)\n",
        "        if d == 0:\n",
        "            raise ZeroDivisionError(\"Похідна дорівнює нулю — зупинка.\")\n",
        "        xi_1 = xi - f(xi) / d\n",
        "\n",
        "    print('Метод Ньютона, x =', round(float(xi_1), 4))"
      ],
      "metadata": {
        "id": "t-FUcU4Fj0-f"
      },
      "execution_count": 15,
      "outputs": []
    },
    {
      "cell_type": "code",
      "source": [
        "def komb(a, b, eps, f):\n",
        "    df2 = nd.Derivative(f, n=2)(a)\n",
        "    if f(a) * df2 > 0:\n",
        "        a0, b0 = a, b\n",
        "    else:\n",
        "        a0, b0 = b, a\n",
        "    ai, bi = a0, b0\n",
        "\n",
        "    while np.abs(ai - bi) > eps:\n",
        "        ai_1 = ai - f(ai) * (bi - ai) / (f(bi) - f(ai))\n",
        "        bi_1 = bi - f(bi) / nd.Derivative(f, n=1)(bi)\n",
        "        ai, bi = ai_1, bi_1\n",
        "\n",
        "    x = (ai_1 + bi_1) / 2\n",
        "\n",
        "    print('Комбінований метод, x = ', x.round(4))\n"
      ],
      "metadata": {
        "id": "M2T4FA4ifyy_"
      },
      "execution_count": 16,
      "outputs": []
    },
    {
      "cell_type": "code",
      "source": [
        "if __name__ == \"__main__\":\n",
        "    a1, b1 = -4, -3\n",
        "    a2, b2 = 0, 1\n",
        "    eps = 0.001\n",
        "\n",
        "    print(\"Розв'язання на відрізку [-4, -3]\")\n",
        "    nuton(a1, b1, eps, f)\n",
        "    komb(a1, b1, eps, f)\n",
        "    print(\"\\n Розв'язання на відрізку [0, 1]\")\n",
        "    nuton(a2, b2, eps, f)\n",
        "    komb(a2, b2, eps, f)"
      ],
      "metadata": {
        "id": "zrxTpvysf0zN",
        "colab": {
          "base_uri": "https://localhost:8080/"
        },
        "outputId": "1f35276a-49f8-4368-9582-3fa077644d51"
      },
      "execution_count": 17,
      "outputs": [
        {
          "output_type": "stream",
          "name": "stdout",
          "text": [
            "Розв'язання на відрізку [-4, -3]\n",
            "Метод Ньютона, x = -3.0841\n",
            "Комбінований метод, x =  -3.0839\n",
            "\n",
            " Розв'язання на відрізку [0, 1]\n",
            "Метод Ньютона, x = 0.8005\n",
            "Комбінований метод, x =  0.8005\n"
          ]
        }
      ]
    },
    {
      "cell_type": "markdown",
      "source": [
        "Завдання 3. Лабораторна робота 3\n",
        "\n",
        "Тема: Відокремлення дійсних коренів рівнянь та їх уточнення методом простої ітерації."
      ],
      "metadata": {
        "id": "370aMnuwjPeK"
      }
    },
    {
      "cell_type": "code",
      "source": [
        "!pip install numdifftools"
      ],
      "metadata": {
        "id": "Rc37HrNui3h5",
        "colab": {
          "base_uri": "https://localhost:8080/"
        },
        "outputId": "4d5e2690-db45-4488-e84f-a3569e12d119"
      },
      "execution_count": 18,
      "outputs": [
        {
          "output_type": "stream",
          "name": "stdout",
          "text": [
            "Requirement already satisfied: numdifftools in /usr/local/lib/python3.12/dist-packages (0.9.41)\n",
            "Requirement already satisfied: numpy>=1.9 in /usr/local/lib/python3.12/dist-packages (from numdifftools) (2.0.2)\n",
            "Requirement already satisfied: scipy>=0.8 in /usr/local/lib/python3.12/dist-packages (from numdifftools) (1.16.2)\n"
          ]
        }
      ]
    },
    {
      "cell_type": "code",
      "source": [
        "import numdifftools as nd"
      ],
      "metadata": {
        "id": "mCRRGRFlizK1"
      },
      "execution_count": 19,
      "outputs": []
    },
    {
      "cell_type": "markdown",
      "source": [
        "![image.png](data:image/png;base64,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)"
      ],
      "metadata": {
        "id": "-9I2hmJlqmO-"
      }
    },
    {
      "cell_type": "markdown",
      "source": [
        "![image.png](data:image/png;base64,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)"
      ],
      "metadata": {
        "id": "X7Ma1oNqlMRR"
      }
    },
    {
      "cell_type": "markdown",
      "source": [
        "Визначаємо, що корінь належить відрізку [-3, 1]"
      ],
      "metadata": {
        "id": "49S6DfpDqrQZ"
      }
    },
    {
      "cell_type": "code",
      "source": [
        "def f(x: float):\n",
        "    return x**3 - 3*x**2 + 12*x - 12\n",
        "\n",
        "def phi(x: float):\n",
        "    # c = -0.15 (забезпечує |phi'(x)|<1 на [1,2])\n",
        "    return x - 0.15 * f(x)\n",
        "\n",
        "def iterate_fixed_point(x0: float, eps: float = 0.0001, max_iters: int = 100):\n",
        "    xs = [x0]\n",
        "    x = x0\n",
        "    for _ in range(max_iters):\n",
        "        x_new = phi(x)\n",
        "        xs.append(x_new)\n",
        "        if abs(x_new - x) < eps:\n",
        "            break\n",
        "        x = x_new\n",
        "    return xs\n",
        "\n",
        "def error_bound(x_last: float) -> float:\n",
        "    # μ = min_{x∈[1,2]} |f'(x)| = 9\n",
        "    mu = 9.0\n",
        "    return abs(f(x_last)) / mu\n",
        "\n"
      ],
      "metadata": {
        "id": "gt8HxS1AiM0Y"
      },
      "execution_count": 20,
      "outputs": []
    },
    {
      "cell_type": "code",
      "source": [
        "def main():\n",
        "    x0 = 1.5\n",
        "    eps = 0.0001\n",
        "    xs = iterate_fixed_point(x0, eps)\n",
        "\n",
        "    print(\"Fixed-point iteration for f(x) = x^3 - 3x^2 + 12x - 12\")\n",
        "    print(\"phi(x) = x - 0.15*f(x)\")\n",
        "    print(f\"Interval: [1, 2], start x0 = {x0}, eps = {eps}\")\n",
        "\n",
        "    for i, xi in enumerate(xs):\n",
        "        if i == 0:\n",
        "            print(f\"x_{i} = {xi:.10f}\")\n",
        "        else:\n",
        "            print(f\"x_{i} = phi(x_{i-1}) = {xi:.10f}\")\n",
        "\n",
        "    bound = error_bound(xs[-1])\n",
        "    print(f\"\\nApproximate root after {len(xs)-1} iterations: {xs[-1]:.10f}\")\n",
        "    print(f\"Error bound: |ξ - x| ≤ {bound:.10f}\")\n",
        "\n",
        "    return xs[-1], bound\n",
        "\n",
        "if __name__ == \"__main__\":\n",
        "    root_approx, bound = main()"
      ],
      "metadata": {
        "colab": {
          "base_uri": "https://localhost:8080/"
        },
        "id": "NcUIwAOAimLR",
        "outputId": "c2b766e2-c7f6-494e-a29c-2cf5a882ebd2"
      },
      "execution_count": 21,
      "outputs": [
        {
          "output_type": "stream",
          "name": "stdout",
          "text": [
            "Fixed-point iteration for f(x) = x^3 - 3x^2 + 12x - 12\n",
            "phi(x) = x - 0.15*f(x)\n",
            "Interval: [1, 2], start x0 = 1.5, eps = 0.0001\n",
            "x_0 = 1.5000000000\n",
            "x_1 = phi(x_0) = 1.1062500000\n",
            "x_2 = phi(x_1) = 1.2626325806\n",
            "x_3 = phi(x_2) = 1.2053613001\n",
            "x_4 = phi(x_3) = 1.2268244315\n",
            "x_5 = phi(x_4) = 1.2188609545\n",
            "x_6 = phi(x_5) = 1.2218261461\n",
            "x_7 = phi(x_6) = 1.2207235443\n",
            "x_8 = phi(x_7) = 1.2211337488\n",
            "x_9 = phi(x_8) = 1.2209811674\n",
            "x_10 = phi(x_9) = 1.2210379261\n",
            "\n",
            "Approximate root after 10 iterations: 1.2210379261\n",
            "Error bound: |ξ - x| ≤ 0.0000156394\n"
          ]
        }
      ]
    },
    {
      "cell_type": "markdown",
      "source": [
        "Спрощений варіант коду\n"
      ],
      "metadata": {
        "id": "_gkwLHTNkDwS"
      }
    },
    {
      "cell_type": "code",
      "source": [
        "# Рівняння: f(x) = x^3 - x + 7 = 0\n",
        "# Ітераційна функція: φ(x) = x - 0.1 * f(x)  (c = -0.1)\n",
        "# Початкове наближення: x0 = -1\n",
        "# Кількість ітерацій: 5\n",
        "# Оцінка похибки: |ξ - x5| ≤ |f(x5)| / μ, де μ = min_{[-3,-1]} |f'(x)| = 2\n",
        "\n",
        "def f(x):\n",
        "    return x**3 - 3*x**2 + 12*x - 12\n",
        "\n",
        "def phi(x):\n",
        "    return x - 0.15 * f(x)   # c = -0.15\n",
        "\n",
        "def fixed_point(x0=1.5, eps=0.0001, max_iters=100):\n",
        "    xs = [x0]\n",
        "    for _ in range(max_iters):\n",
        "        x_new = phi(xs[-1])\n",
        "        xs.append(x_new)\n",
        "        if abs(xs[-1] - xs[-2]) < eps:   # умова зупинки\n",
        "            break\n",
        "    return xs\n",
        "\n",
        "# Запуск і вивід результатів\n",
        "xs = fixed_point(1.5, 0.0001)\n",
        "\n",
        "for i, xi in enumerate(xs):\n",
        "    print(f\"x_{i} = {xi:.10f}\")\n",
        "\n",
        "# Похибка методу простої ітерації після останньої ітерації\n",
        "mu = 9.0   # μ = min_{[1,2]} |3x^2 - 6x + 12| = 9\n",
        "err_bound = abs(f(xs[-1])) / mu\n",
        "print(f\"\\nОцінка похибки: |ξ - x| ≤ {err_bound:.10f}\")"
      ],
      "metadata": {
        "colab": {
          "base_uri": "https://localhost:8080/"
        },
        "id": "womZO91vj9vN",
        "outputId": "66defd76-14f5-4dbf-a9ac-9feff6e9ab13"
      },
      "execution_count": 22,
      "outputs": [
        {
          "output_type": "stream",
          "name": "stdout",
          "text": [
            "x_0 = 1.5000000000\n",
            "x_1 = 1.1062500000\n",
            "x_2 = 1.2626325806\n",
            "x_3 = 1.2053613001\n",
            "x_4 = 1.2268244315\n",
            "x_5 = 1.2188609545\n",
            "x_6 = 1.2218261461\n",
            "x_7 = 1.2207235443\n",
            "x_8 = 1.2211337488\n",
            "x_9 = 1.2209811674\n",
            "x_10 = 1.2210379261\n",
            "\n",
            "Оцінка похибки: |ξ - x| ≤ 0.0000156394\n"
          ]
        }
      ]
    }
  ]
}